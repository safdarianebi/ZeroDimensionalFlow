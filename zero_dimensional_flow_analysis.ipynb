{
 "cells": [
  {
   "cell_type": "code",
   "execution_count": 1,
   "id": "5e734fb9-79ef-46aa-ac2a-888eba3da2ee",
   "metadata": {},
   "outputs": [],
   "source": [
    "import math\n",
    "import pandas as pd\n",
    "import numpy as np\n",
    "from matplotlib import pyplot as plt\n",
    "from ipynb.fs.full.functions import i_star, i_c, i_s, properties, rotor_inlet, delta_star, lc_star, lc_OD, compressor_solver\n",
    "from ipynb.fs.full.functions import delta_OD, rotor_outlet, stator_outlet, efficiency, checker, stage_solver, stage_solver_star"
   ]
  },
  {
   "attachments": {},
   "cell_type": "markdown",
   "id": "a647dd52-0b32-4f7a-be5f-76613b615704",
   "metadata": {},
   "source": [
    "# Single-Stage Compressor"
   ]
  },
  {
   "attachments": {},
   "cell_type": "markdown",
   "id": "c276a437-274a-4f6a-ac28-ed71866f16c6",
   "metadata": {},
   "source": [
    "## Data"
   ]
  },
  {
   "attachments": {},
   "cell_type": "markdown",
   "id": "b019fe41-3744-49a9-8d16-8d9b4e6b28a1",
   "metadata": {},
   "source": [
    "The compressor uses inlet guied vanes at the inlet of the compressor and the flow angle at the inlet of the compressor is 43 degrees. The blades are from type of C-4 circular arc and and also We have these informations:"
   ]
  },
  {
   "cell_type": "code",
   "execution_count": 2,
   "id": "6949e249-2648-4099-8479-a4f6182beb4c",
   "metadata": {},
   "outputs": [],
   "source": [
    "alpha1 = 43                #degree"
   ]
  },
  {
   "cell_type": "code",
   "execution_count": 3,
   "id": "b775a4d7-e032-4eff-9146-a21b60a23441",
   "metadata": {},
   "outputs": [],
   "source": [
    "N_design = 6000            #RPM\n",
    "N_stage  = 1"
   ]
  },
  {
   "cell_type": "code",
   "execution_count": 4,
   "id": "0bf3e1fc-5206-4ff2-b43f-256542c1141b",
   "metadata": {},
   "outputs": [],
   "source": [
    "P01 = 100/101.325          #bar\n",
    "T01 = 288                  #k"
   ]
  },
  {
   "cell_type": "code",
   "execution_count": 5,
   "id": "451e1022-b2d7-4aef-b9ea-f5e930b943e2",
   "metadata": {},
   "outputs": [],
   "source": [
    "t_max_c = 0.12             #t_max/c"
   ]
  },
  {
   "cell_type": "code",
   "execution_count": 6,
   "id": "2c9c41b2-a06e-449d-a130-b2c2f02e3a23",
   "metadata": {},
   "outputs": [],
   "source": [
    "r_h1 = 0.2                 #meter\n",
    "r_t1 = 0.3                 #meter\n",
    "H1 = r_t1-r_h1\n",
    "\n",
    "r_h2 = 0.205               #meter\n",
    "r_t2 = 0.295               #meter\n",
    "H2 = r_t2-r_h2\n",
    "\n",
    "r_h3 = 0.21                #meter\n",
    "r_t3 = 0.29                #meter\n",
    "H3 = r_t3-r_h3"
   ]
  },
  {
   "cell_type": "code",
   "execution_count": 7,
   "id": "32928825-edce-493a-9494-db2871896fcd",
   "metadata": {},
   "outputs": [],
   "source": [
    "r_m1 = (r_h1+r_t1)/2\n",
    "r_m2 = (r_h2+r_t2)/2\n",
    "r_m3 = (r_h3+r_t3)/2"
   ]
  },
  {
   "cell_type": "code",
   "execution_count": 8,
   "id": "20468689-7d45-429b-a4b2-6fcb0c110577",
   "metadata": {},
   "outputs": [],
   "source": [
    "#for compressor:\n",
    "C_p = 1.004                             #kJ/kg-k\n",
    "gama = 1.4  \n",
    "R = 0.287                               #kJ/kg-k"
   ]
  },
  {
   "attachments": {},
   "cell_type": "markdown",
   "id": "63fbe74c-e035-4595-a429-5668d09b8bc3",
   "metadata": {
    "tags": []
   },
   "source": [
    "### Rotor"
   ]
  },
  {
   "cell_type": "code",
   "execution_count": 9,
   "id": "06c62be4-8338-4c47-a3e1-5344ba9cb089",
   "metadata": {},
   "outputs": [],
   "source": [
    "beta_prime1 = 50         #degree\n",
    "beta_prime2 = 30         #degree\n",
    "sigma_r = 1              #rotor solidity at r_m\n",
    "c_r = 0.04               #rotor chord[meter]\n",
    "s_r = c_r/sigma_r"
   ]
  },
  {
   "attachments": {},
   "cell_type": "markdown",
   "id": "147cd5ec-8505-4c94-9251-742c75063c6e",
   "metadata": {},
   "source": [
    "### Stator"
   ]
  },
  {
   "cell_type": "code",
   "execution_count": 10,
   "id": "dc3dba11-9276-4797-9bb1-0ab87ef3aebf",
   "metadata": {},
   "outputs": [],
   "source": [
    "alpha_prime2 = 57.6      #degree\n",
    "alpha_prime3 = 32.6      #degree\n",
    "sigma_s = 0.91           #stator solidity at r_m\n",
    "c_s = 0.05               #stator chord[meter]\n",
    "s_s = c_s/sigma_s"
   ]
  },
  {
   "cell_type": "code",
   "execution_count": 11,
   "id": "95af9989-a283-4177-9136-883d14903e76",
   "metadata": {},
   "outputs": [],
   "source": [
    "blade_type = ['65_Series','circular']\n",
    "stagger = (beta_prime1+beta_prime2)/2\n",
    "a_c = 0.5"
   ]
  },
  {
   "attachments": {},
   "cell_type": "markdown",
   "id": "09af7b05-3d42-4ca9-8f8a-0637c11e1cd0",
   "metadata": {},
   "source": [
    "## Calculation Process"
   ]
  },
  {
   "attachments": {},
   "cell_type": "markdown",
   "id": "fd4a0462-2527-4056-93ce-1d45cef811aa",
   "metadata": {},
   "source": [
    "### i_star"
   ]
  },
  {
   "cell_type": "code",
   "execution_count": 12,
   "id": "aba4372e-3496-439a-9f58-9a8dd2b86323",
   "metadata": {},
   "outputs": [],
   "source": [
    "theta = beta_prime1-beta_prime2"
   ]
  },
  {
   "cell_type": "code",
   "execution_count": 13,
   "id": "e059217e-ca3a-419d-bdde-f57e98be13c3",
   "metadata": {},
   "outputs": [
    {
     "data": {
      "text/plain": [
       "{'i_star': -0.15572863909250145,\n",
       " 'alpha_star': 9.844271360907499,\n",
       " 'beta1_star': 49.8442713609075,\n",
       " 'E-Check': 0.0}"
      ]
     },
     "execution_count": 13,
     "metadata": {},
     "output_type": "execute_result"
    }
   ],
   "source": [
    "i_star(beta_prime1, stagger, a_c, theta, t_max_c, sigma_r, blade_type)"
   ]
  },
  {
   "cell_type": "code",
   "execution_count": 14,
   "id": "f55edadd-2a6c-4973-8ceb-9175cf75192b",
   "metadata": {},
   "outputs": [],
   "source": [
    "dic = i_star(beta_prime1, stagger, a_c, theta, t_max_c, sigma_r, blade_type)\n",
    "i_star_r = dic['i_star']\n",
    "alpha_star = dic['alpha_star']\n",
    "beta1_star = dic['beta1_star']"
   ]
  },
  {
   "attachments": {},
   "cell_type": "markdown",
   "id": "f042e9e8-67f6-4b5a-b81f-dd6f0a4893ca",
   "metadata": {},
   "source": [
    "## i_c"
   ]
  },
  {
   "cell_type": "code",
   "execution_count": 15,
   "id": "e909e16b-efae-49fb-af8d-3f59aa3f216e",
   "metadata": {},
   "outputs": [
    {
     "data": {
      "text/plain": [
       "{'i_c': -9.463214370626282,\n",
       " 'alpha_c': 0.5367856293737177,\n",
       " 'beta1_c': 40.53678562937372,\n",
       " 'E-Check': 1.0}"
      ]
     },
     "execution_count": 15,
     "metadata": {},
     "output_type": "execute_result"
    }
   ],
   "source": [
    "i_c(i_star_r, alpha_star, beta1_star, theta, stagger)"
   ]
  },
  {
   "attachments": {},
   "cell_type": "markdown",
   "id": "f068351e-fe62-4848-b75b-75ef08fe84fb",
   "metadata": {},
   "source": [
    "It is ok to have 'E-Check': 1.0. that's because of that We reduce i_c 1 degree for 2% more mass flow rate!!!"
   ]
  },
  {
   "cell_type": "code",
   "execution_count": 16,
   "id": "374ce5c0-2635-4e5d-bfa5-4c2de94ac1ed",
   "metadata": {},
   "outputs": [],
   "source": [
    "dic = i_c(i_star_r, alpha_star, beta1_star, theta, stagger)\n",
    "i_c_r = dic['i_c']\n",
    "alpha_c = dic['alpha_c']\n",
    "beta1_c = dic['beta1_c']"
   ]
  },
  {
   "attachments": {},
   "cell_type": "markdown",
   "id": "585ae733-7dbc-49b2-9146-ddb1a38f815d",
   "metadata": {},
   "source": [
    "## i_s"
   ]
  },
  {
   "cell_type": "code",
   "execution_count": 17,
   "id": "0c50fb1a-8d49-41c7-be0e-c87d36c6b98f",
   "metadata": {},
   "outputs": [
    {
     "data": {
      "text/plain": [
       "{'i_s': 8.171249657087026,\n",
       " 'alpha_s': 18.171249657087024,\n",
       " 'beta1_s': 58.17144681763575,\n",
       " 'E-Check': 0.00019716054872276345}"
      ]
     },
     "execution_count": 17,
     "metadata": {},
     "output_type": "execute_result"
    }
   ],
   "source": [
    "i_s(i_star_r, alpha_star, beta1_star, theta, stagger)"
   ]
  },
  {
   "cell_type": "code",
   "execution_count": 18,
   "id": "ba956187-1784-481d-ac89-e8859bdf7972",
   "metadata": {},
   "outputs": [],
   "source": [
    "dic = i_s(i_star_r, alpha_star, beta1_star, theta, stagger)\n",
    "i_s_r = dic['i_s']\n",
    "alpha_s = dic['alpha_s']\n",
    "beta1_s = dic['beta1_s']"
   ]
  },
  {
   "attachments": {},
   "cell_type": "markdown",
   "id": "eca41752-5a49-45d4-9234-6c2c5ee3254a",
   "metadata": {},
   "source": [
    "## Rotor Inlet"
   ]
  },
  {
   "attachments": {},
   "cell_type": "markdown",
   "id": "26b6cd95-f85d-4c0a-ad26-5d5ac5681b2a",
   "metadata": {},
   "source": [
    "We calculate specifications at the rotor inlet for design parameters:"
   ]
  },
  {
   "cell_type": "code",
   "execution_count": 19,
   "id": "63d6ba75-a669-4716-a9f9-2aa816a30454",
   "metadata": {},
   "outputs": [],
   "source": [
    "i = i_star_r\n",
    "N = N_design              #RPM\n",
    "sigma = sigma_r\n",
    "beta1 = beta_prime1+i"
   ]
  },
  {
   "cell_type": "code",
   "execution_count": 20,
   "id": "fee913e9-e20f-4d50-8b6c-7516722ecad7",
   "metadata": {},
   "outputs": [],
   "source": [
    "df1_rotor_inlet_star, df2_rotor_inlet_star = rotor_inlet(r_h1, r_t1, N, beta1, alpha1, P01, T01, R)"
   ]
  },
  {
   "cell_type": "code",
   "execution_count": 21,
   "id": "8f0b332c-345d-45a1-a095-dc6373d5098f",
   "metadata": {},
   "outputs": [
    {
     "data": {
      "text/html": [
       "<div>\n",
       "<style scoped>\n",
       "    .dataframe tbody tr th:only-of-type {\n",
       "        vertical-align: middle;\n",
       "    }\n",
       "\n",
       "    .dataframe tbody tr th {\n",
       "        vertical-align: top;\n",
       "    }\n",
       "\n",
       "    .dataframe thead th {\n",
       "        text-align: right;\n",
       "    }\n",
       "</style>\n",
       "<table border=\"1\" class=\"dataframe\">\n",
       "  <thead>\n",
       "    <tr style=\"text-align: right;\">\n",
       "      <th></th>\n",
       "      <th>P[bar]</th>\n",
       "      <th>T[k]</th>\n",
       "      <th>h[kj/kg]</th>\n",
       "      <th>s[kj/kg-k]</th>\n",
       "    </tr>\n",
       "  </thead>\n",
       "  <tbody>\n",
       "    <tr>\n",
       "      <th>Point 01</th>\n",
       "      <td>0.986923</td>\n",
       "      <td>288.000000</td>\n",
       "      <td>292.716203</td>\n",
       "      <td>5.866373</td>\n",
       "    </tr>\n",
       "    <tr>\n",
       "      <th>Point 1</th>\n",
       "      <td>0.926867</td>\n",
       "      <td>282.877435</td>\n",
       "      <td>287.573148</td>\n",
       "      <td>5.866373</td>\n",
       "    </tr>\n",
       "    <tr>\n",
       "      <th>Point 01_rel</th>\n",
       "      <td>1.004612</td>\n",
       "      <td>289.466164</td>\n",
       "      <td>294.188232</td>\n",
       "      <td>5.866373</td>\n",
       "    </tr>\n",
       "  </tbody>\n",
       "</table>\n",
       "</div>"
      ],
      "text/plain": [
       "                P[bar]        T[k]    h[kj/kg]  s[kj/kg-k]\n",
       "Point 01      0.986923  288.000000  292.716203    5.866373\n",
       "Point 1       0.926867  282.877435  287.573148    5.866373\n",
       "Point 01_rel  1.004612  289.466164  294.188232    5.866373"
      ]
     },
     "execution_count": 21,
     "metadata": {},
     "output_type": "execute_result"
    }
   ],
   "source": [
    "df1_rotor_inlet_star"
   ]
  },
  {
   "cell_type": "code",
   "execution_count": 22,
   "id": "0fbe9b89-8e4f-458d-8c3f-0666de43f0e9",
   "metadata": {},
   "outputs": [
    {
     "data": {
      "text/html": [
       "<div>\n",
       "<style scoped>\n",
       "    .dataframe tbody tr th:only-of-type {\n",
       "        vertical-align: middle;\n",
       "    }\n",
       "\n",
       "    .dataframe tbody tr th {\n",
       "        vertical-align: top;\n",
       "    }\n",
       "\n",
       "    .dataframe thead th {\n",
       "        text-align: right;\n",
       "    }\n",
       "</style>\n",
       "<table border=\"1\" class=\"dataframe\">\n",
       "  <thead>\n",
       "    <tr style=\"text-align: right;\">\n",
       "      <th></th>\n",
       "      <th>m_dot[kg/sec]</th>\n",
       "      <th>rho1[kg/m^3]</th>\n",
       "      <th>C1[meter/sec]</th>\n",
       "      <th>W1[meter/sec]</th>\n",
       "      <th>C_m1[meter/sec]</th>\n",
       "      <th>U1[meter/sec]</th>\n",
       "      <th>rho1[kg/sec]</th>\n",
       "      <th>A1[m^2]</th>\n",
       "      <th>alpha1[degree]</th>\n",
       "      <th>beta1[degree]</th>\n",
       "    </tr>\n",
       "  </thead>\n",
       "  <tbody>\n",
       "    <tr>\n",
       "      <th>value</th>\n",
       "      <td>13.478038</td>\n",
       "      <td>1.156788</td>\n",
       "      <td>101.420463</td>\n",
       "      <td>115.022468</td>\n",
       "      <td>74.174231</td>\n",
       "      <td>157.079633</td>\n",
       "      <td>1.156788</td>\n",
       "      <td>0.15708</td>\n",
       "      <td>43</td>\n",
       "      <td>49.844271</td>\n",
       "    </tr>\n",
       "  </tbody>\n",
       "</table>\n",
       "</div>"
      ],
      "text/plain": [
       "       m_dot[kg/sec]  rho1[kg/m^3]  C1[meter/sec]  W1[meter/sec]  \\\n",
       "value      13.478038      1.156788     101.420463     115.022468   \n",
       "\n",
       "       C_m1[meter/sec]  U1[meter/sec]  rho1[kg/sec]  A1[m^2]  alpha1[degree]  \\\n",
       "value        74.174231     157.079633      1.156788  0.15708              43   \n",
       "\n",
       "       beta1[degree]  \n",
       "value      49.844271  "
      ]
     },
     "execution_count": 22,
     "metadata": {},
     "output_type": "execute_result"
    }
   ],
   "source": [
    "df2_rotor_inlet_star"
   ]
  },
  {
   "cell_type": "code",
   "execution_count": 23,
   "id": "0e68935c-2d3a-48d7-9699-d9529f877dfc",
   "metadata": {},
   "outputs": [],
   "source": [
    "W1_star = df2_rotor_inlet_star['W1[meter/sec]']['value']\n",
    "T1_star = df1_rotor_inlet_star['T[k]']['Point 1']\n",
    "M_W1_star = W1_star/((gama*R*1000*T1_star)**0.5)"
   ]
  },
  {
   "cell_type": "code",
   "execution_count": 24,
   "id": "615de901-d924-4c6e-8dae-5608a632f60a",
   "metadata": {},
   "outputs": [
    {
     "data": {
      "text/plain": [
       "0.3411760695814368"
      ]
     },
     "execution_count": 24,
     "metadata": {},
     "output_type": "execute_result"
    }
   ],
   "source": [
    "M_W1_star"
   ]
  },
  {
   "attachments": {},
   "cell_type": "markdown",
   "id": "da422dc4-328b-41ea-837b-b0b3d28712bd",
   "metadata": {},
   "source": [
    "## Rotor Outlet"
   ]
  },
  {
   "attachments": {},
   "cell_type": "markdown",
   "id": "70be5a24-dc87-40b7-b9bc-52704dfe94f3",
   "metadata": {
    "tags": []
   },
   "source": [
    "### delta_star"
   ]
  },
  {
   "cell_type": "code",
   "execution_count": 25,
   "id": "15bcd688-3070-4545-9d15-fca40b96ef21",
   "metadata": {},
   "outputs": [],
   "source": [
    "C_m1 = df2_rotor_inlet_star['C_m1[meter/sec]']['value']\n",
    "U1 = df2_rotor_inlet_star['U1[meter/sec]']['value']\n",
    "h1 = df1_rotor_inlet_star['h[kj/kg]']['Point 1']"
   ]
  },
  {
   "cell_type": "code",
   "execution_count": 26,
   "id": "a33777f5-2ae9-4149-857b-2acae2945e71",
   "metadata": {},
   "outputs": [],
   "source": [
    "df1_rotor_outlet_star, df2_rotor_outlet_star = rotor_outlet(M_W1_star, df1_rotor_inlet_star, df2_rotor_inlet_star, gama, R, blade_type, i_s_r, i_c_r, 0, sigma, beta1, 0, i_star_r, i_star_r, alpha1, r_m1, r_m2, N_design, beta_prime2, H1, H2, N_design, t_max_c, a_c, s_r, theta)"
   ]
  },
  {
   "cell_type": "code",
   "execution_count": 27,
   "id": "91df9e51-fc12-48ef-80ce-7508bd38615a",
   "metadata": {},
   "outputs": [
    {
     "data": {
      "text/html": [
       "<div>\n",
       "<style scoped>\n",
       "    .dataframe tbody tr th:only-of-type {\n",
       "        vertical-align: middle;\n",
       "    }\n",
       "\n",
       "    .dataframe tbody tr th {\n",
       "        vertical-align: top;\n",
       "    }\n",
       "\n",
       "    .dataframe thead th {\n",
       "        text-align: right;\n",
       "    }\n",
       "</style>\n",
       "<table border=\"1\" class=\"dataframe\">\n",
       "  <thead>\n",
       "    <tr style=\"text-align: right;\">\n",
       "      <th></th>\n",
       "      <th>P[bar]</th>\n",
       "      <th>T[k]</th>\n",
       "      <th>h[kj/kg]</th>\n",
       "      <th>s[kj/kg-k]</th>\n",
       "    </tr>\n",
       "  </thead>\n",
       "  <tbody>\n",
       "    <tr>\n",
       "      <th>Point 02</th>\n",
       "      <td>1.040851</td>\n",
       "      <td>292.598045</td>\n",
       "      <td>297.332640</td>\n",
       "      <td>5.867007</td>\n",
       "    </tr>\n",
       "    <tr>\n",
       "      <th>Point 2</th>\n",
       "      <td>0.943004</td>\n",
       "      <td>284.456151</td>\n",
       "      <td>289.158179</td>\n",
       "      <td>5.867007</td>\n",
       "    </tr>\n",
       "    <tr>\n",
       "      <th>Point 02_rel</th>\n",
       "      <td>1.002395</td>\n",
       "      <td>289.466164</td>\n",
       "      <td>294.188232</td>\n",
       "      <td>5.867007</td>\n",
       "    </tr>\n",
       "  </tbody>\n",
       "</table>\n",
       "</div>"
      ],
      "text/plain": [
       "                P[bar]        T[k]    h[kj/kg]  s[kj/kg-k]\n",
       "Point 02      1.040851  292.598045  297.332640    5.867007\n",
       "Point 2       0.943004  284.456151  289.158179    5.867007\n",
       "Point 02_rel  1.002395  289.466164  294.188232    5.867007"
      ]
     },
     "execution_count": 27,
     "metadata": {},
     "output_type": "execute_result"
    }
   ],
   "source": [
    "df1_rotor_outlet_star"
   ]
  },
  {
   "cell_type": "code",
   "execution_count": 28,
   "id": "00fa787a-ce09-4f14-b170-60cef91d920d",
   "metadata": {},
   "outputs": [
    {
     "data": {
      "text/html": [
       "<div>\n",
       "<style scoped>\n",
       "    .dataframe tbody tr th:only-of-type {\n",
       "        vertical-align: middle;\n",
       "    }\n",
       "\n",
       "    .dataframe tbody tr th {\n",
       "        vertical-align: top;\n",
       "    }\n",
       "\n",
       "    .dataframe thead th {\n",
       "        text-align: right;\n",
       "    }\n",
       "</style>\n",
       "<table border=\"1\" class=\"dataframe\">\n",
       "  <thead>\n",
       "    <tr style=\"text-align: right;\">\n",
       "      <th></th>\n",
       "      <th>m_dot[kg/sec]</th>\n",
       "      <th>C2[meter/sec]</th>\n",
       "      <th>W2[meter/sec]</th>\n",
       "      <th>C_m2[meter/sec]</th>\n",
       "      <th>U2[meter/sec]</th>\n",
       "      <th>rho2[kg/m^3]</th>\n",
       "      <th>A2[m^2]</th>\n",
       "      <th>alpha2[degree]</th>\n",
       "      <th>beta2[degree]</th>\n",
       "      <th>E-Check</th>\n",
       "    </tr>\n",
       "  </thead>\n",
       "  <tbody>\n",
       "    <tr>\n",
       "      <th>value</th>\n",
       "      <td>13.478038</td>\n",
       "      <td>127.862907</td>\n",
       "      <td>100.300082</td>\n",
       "      <td>81.457318</td>\n",
       "      <td>157.079633</td>\n",
       "      <td>1.170397</td>\n",
       "      <td>0.141372</td>\n",
       "      <td>50.426495</td>\n",
       "      <td>35.694837</td>\n",
       "      <td>0.000216</td>\n",
       "    </tr>\n",
       "  </tbody>\n",
       "</table>\n",
       "</div>"
      ],
      "text/plain": [
       "       m_dot[kg/sec]  C2[meter/sec]  W2[meter/sec]  C_m2[meter/sec]  \\\n",
       "value      13.478038     127.862907     100.300082        81.457318   \n",
       "\n",
       "       U2[meter/sec]  rho2[kg/m^3]   A2[m^2]  alpha2[degree]  beta2[degree]  \\\n",
       "value     157.079633      1.170397  0.141372       50.426495      35.694837   \n",
       "\n",
       "        E-Check  \n",
       "value  0.000216  "
      ]
     },
     "execution_count": 28,
     "metadata": {},
     "output_type": "execute_result"
    }
   ],
   "source": [
    "df2_rotor_outlet_star"
   ]
  },
  {
   "cell_type": "code",
   "execution_count": 29,
   "id": "d330841b-cf19-4984-b63c-39955d01717e",
   "metadata": {},
   "outputs": [],
   "source": [
    "C_m2 = df2_rotor_outlet_star['C_m2[meter/sec]']['value']"
   ]
  },
  {
   "cell_type": "code",
   "execution_count": 30,
   "id": "0f7f33cf-8744-4d33-821b-0df5937b2620",
   "metadata": {},
   "outputs": [
    {
     "data": {
      "text/plain": [
       "{'delta_m_liblin': 5.328214487756852,\n",
       " 'delta_m_howel': 5.694837194288879,\n",
       " 'beta2_howel': 35.69483719428888,\n",
       " 'E-Check': 9.59926097010566e-06}"
      ]
     },
     "execution_count": 30,
     "metadata": {},
     "output_type": "execute_result"
    }
   ],
   "source": [
    "delta_star(sigma_r, beta1, t_max_c, blade_type, theta, beta_prime2, a_c, C_m1, C_m2)"
   ]
  },
  {
   "cell_type": "code",
   "execution_count": 31,
   "id": "7b57b829-50b2-4ae1-bf47-3d499ee23adf",
   "metadata": {},
   "outputs": [],
   "source": [
    "dic = delta_star(sigma_r, beta1, t_max_c, blade_type, theta, beta_prime2, a_c, C_m1, C_m2)\n",
    "delta_star_r = dic['delta_m_howel']\n",
    "beta2_star = dic['beta2_howel']"
   ]
  },
  {
   "attachments": {},
   "cell_type": "markdown",
   "id": "8e17521a-c609-4e8c-b27f-bc41408c9b75",
   "metadata": {},
   "source": [
    "### loss coefficient_star"
   ]
  },
  {
   "cell_type": "code",
   "execution_count": 32,
   "id": "b62cb3d2-dca4-4ac4-8c99-68fc4d049da3",
   "metadata": {},
   "outputs": [],
   "source": [
    "loss_coefficient_star = lc_star(sigma_r, r_m1, r_m2, C_m1, C_m2, N, beta1, beta2_star, H1, s_r)"
   ]
  },
  {
   "cell_type": "code",
   "execution_count": 33,
   "id": "651d2ae3-8fb9-468c-932c-4a35fc9cced8",
   "metadata": {},
   "outputs": [
    {
     "data": {
      "text/plain": [
       "0.028504228175704728"
      ]
     },
     "execution_count": 33,
     "metadata": {},
     "output_type": "execute_result"
    }
   ],
   "source": [
    "loss_coefficient_star"
   ]
  },
  {
   "attachments": {},
   "cell_type": "markdown",
   "id": "45e4a592-f75c-480c-b2e7-1d9477ddf5a9",
   "metadata": {},
   "source": [
    "### Off-Design"
   ]
  },
  {
   "attachments": {},
   "cell_type": "markdown",
   "id": "093bbfd3-8846-4a01-8e0a-84e2e7fe7e0e",
   "metadata": {},
   "source": [
    "For Example, We assume these informations for a an operating point:"
   ]
  },
  {
   "cell_type": "code",
   "execution_count": 34,
   "id": "00f87489-50c6-41d4-b86c-9eac4ad8fab7",
   "metadata": {},
   "outputs": [],
   "source": [
    "N = 6000            #RPM\n",
    "i = -0.7\n",
    "beta1 = beta_prime1+i\n",
    "sigma = sigma_r"
   ]
  },
  {
   "attachments": {},
   "cell_type": "markdown",
   "id": "7d8b2bb3-a59f-4a76-b6bc-b3f650acfc42",
   "metadata": {},
   "source": [
    "So for rotor inlet We have:"
   ]
  },
  {
   "cell_type": "code",
   "execution_count": 35,
   "id": "f44decef-61f8-47a5-9c1e-bfc340d12d36",
   "metadata": {},
   "outputs": [],
   "source": [
    "df1_rotor_inlet, df2_rotor_inlet = rotor_inlet(r_h1, r_t1, N, beta1, alpha1, P01, T01, R)"
   ]
  },
  {
   "cell_type": "code",
   "execution_count": 36,
   "id": "c12c872d-54e1-43ac-ac5f-3f9fec421231",
   "metadata": {},
   "outputs": [
    {
     "data": {
      "text/html": [
       "<div>\n",
       "<style scoped>\n",
       "    .dataframe tbody tr th:only-of-type {\n",
       "        vertical-align: middle;\n",
       "    }\n",
       "\n",
       "    .dataframe tbody tr th {\n",
       "        vertical-align: top;\n",
       "    }\n",
       "\n",
       "    .dataframe thead th {\n",
       "        text-align: right;\n",
       "    }\n",
       "</style>\n",
       "<table border=\"1\" class=\"dataframe\">\n",
       "  <thead>\n",
       "    <tr style=\"text-align: right;\">\n",
       "      <th></th>\n",
       "      <th>P[bar]</th>\n",
       "      <th>T[k]</th>\n",
       "      <th>h[kj/kg]</th>\n",
       "      <th>s[kj/kg-k]</th>\n",
       "    </tr>\n",
       "  </thead>\n",
       "  <tbody>\n",
       "    <tr>\n",
       "      <th>Point 01</th>\n",
       "      <td>0.986923</td>\n",
       "      <td>288.000000</td>\n",
       "      <td>292.716203</td>\n",
       "      <td>5.866373</td>\n",
       "    </tr>\n",
       "    <tr>\n",
       "      <th>Point 1</th>\n",
       "      <td>0.925594</td>\n",
       "      <td>282.766378</td>\n",
       "      <td>287.461647</td>\n",
       "      <td>5.866373</td>\n",
       "    </tr>\n",
       "    <tr>\n",
       "      <th>Point 01_rel</th>\n",
       "      <td>1.003196</td>\n",
       "      <td>289.349486</td>\n",
       "      <td>294.071087</td>\n",
       "      <td>5.866373</td>\n",
       "    </tr>\n",
       "  </tbody>\n",
       "</table>\n",
       "</div>"
      ],
      "text/plain": [
       "                P[bar]        T[k]    h[kj/kg]  s[kj/kg-k]\n",
       "Point 01      0.986923  288.000000  292.716203    5.866373\n",
       "Point 1       0.925594  282.766378  287.461647    5.866373\n",
       "Point 01_rel  1.003196  289.349486  294.071087    5.866373"
      ]
     },
     "execution_count": 36,
     "metadata": {},
     "output_type": "execute_result"
    }
   ],
   "source": [
    "df1_rotor_inlet"
   ]
  },
  {
   "cell_type": "code",
   "execution_count": 37,
   "id": "a42719f8-254f-48bd-af09-a1cc9310dff7",
   "metadata": {},
   "outputs": [
    {
     "data": {
      "text/html": [
       "<div>\n",
       "<style scoped>\n",
       "    .dataframe tbody tr th:only-of-type {\n",
       "        vertical-align: middle;\n",
       "    }\n",
       "\n",
       "    .dataframe tbody tr th {\n",
       "        vertical-align: top;\n",
       "    }\n",
       "\n",
       "    .dataframe thead th {\n",
       "        text-align: right;\n",
       "    }\n",
       "</style>\n",
       "<table border=\"1\" class=\"dataframe\">\n",
       "  <thead>\n",
       "    <tr style=\"text-align: right;\">\n",
       "      <th></th>\n",
       "      <th>m_dot[kg/sec]</th>\n",
       "      <th>rho1[kg/m^3]</th>\n",
       "      <th>C1[meter/sec]</th>\n",
       "      <th>W1[meter/sec]</th>\n",
       "      <th>C_m1[meter/sec]</th>\n",
       "      <th>U1[meter/sec]</th>\n",
       "      <th>rho1[kg/sec]</th>\n",
       "      <th>A1[m^2]</th>\n",
       "      <th>alpha1[degree]</th>\n",
       "      <th>beta1[degree]</th>\n",
       "    </tr>\n",
       "  </thead>\n",
       "  <tbody>\n",
       "    <tr>\n",
       "      <th>value</th>\n",
       "      <td>13.609998</td>\n",
       "      <td>1.155654</td>\n",
       "      <td>102.513963</td>\n",
       "      <td>114.973394</td>\n",
       "      <td>74.973967</td>\n",
       "      <td>157.079633</td>\n",
       "      <td>1.155654</td>\n",
       "      <td>0.15708</td>\n",
       "      <td>43</td>\n",
       "      <td>49.3</td>\n",
       "    </tr>\n",
       "  </tbody>\n",
       "</table>\n",
       "</div>"
      ],
      "text/plain": [
       "       m_dot[kg/sec]  rho1[kg/m^3]  C1[meter/sec]  W1[meter/sec]  \\\n",
       "value      13.609998      1.155654     102.513963     114.973394   \n",
       "\n",
       "       C_m1[meter/sec]  U1[meter/sec]  rho1[kg/sec]  A1[m^2]  alpha1[degree]  \\\n",
       "value        74.973967     157.079633      1.155654  0.15708              43   \n",
       "\n",
       "       beta1[degree]  \n",
       "value           49.3  "
      ]
     },
     "execution_count": 37,
     "metadata": {},
     "output_type": "execute_result"
    }
   ],
   "source": [
    "df2_rotor_inlet"
   ]
  },
  {
   "attachments": {},
   "cell_type": "markdown",
   "id": "80f416be-11bf-4e6a-a66a-fae04c2a8f99",
   "metadata": {},
   "source": [
    "And for rotor outlet We have:"
   ]
  },
  {
   "cell_type": "code",
   "execution_count": 38,
   "id": "3b2f35da-e5bb-4c92-825f-fea0e8c993f8",
   "metadata": {},
   "outputs": [],
   "source": [
    "df1_rotor_outlet, df2_rotor_outlet = rotor_outlet(M_W1_star, df1_rotor_inlet, df2_rotor_inlet, gama, R, blade_type, i_s_r, i_c_r, loss_coefficient_star, sigma, beta1, delta_star_r, i_star_r, i, alpha1, r_m1, r_m2, N, beta_prime2, H1, H2, N_design, t_max_c, a_c, s_r, theta)"
   ]
  },
  {
   "cell_type": "code",
   "execution_count": 39,
   "id": "89deadcd-7e77-49fd-9044-a39ed93da743",
   "metadata": {},
   "outputs": [
    {
     "data": {
      "text/html": [
       "<div>\n",
       "<style scoped>\n",
       "    .dataframe tbody tr th:only-of-type {\n",
       "        vertical-align: middle;\n",
       "    }\n",
       "\n",
       "    .dataframe tbody tr th {\n",
       "        vertical-align: top;\n",
       "    }\n",
       "\n",
       "    .dataframe thead th {\n",
       "        text-align: right;\n",
       "    }\n",
       "</style>\n",
       "<table border=\"1\" class=\"dataframe\">\n",
       "  <thead>\n",
       "    <tr style=\"text-align: right;\">\n",
       "      <th></th>\n",
       "      <th>P[bar]</th>\n",
       "      <th>T[k]</th>\n",
       "      <th>h[kj/kg]</th>\n",
       "      <th>s[kj/kg-k]</th>\n",
       "    </tr>\n",
       "  </thead>\n",
       "  <tbody>\n",
       "    <tr>\n",
       "      <th>Point 02</th>\n",
       "      <td>1.042491</td>\n",
       "      <td>292.730643</td>\n",
       "      <td>297.465769</td>\n",
       "      <td>5.86701</td>\n",
       "    </tr>\n",
       "    <tr>\n",
       "      <th>Point 2</th>\n",
       "      <td>0.941883</td>\n",
       "      <td>284.360306</td>\n",
       "      <td>289.061951</td>\n",
       "      <td>5.86701</td>\n",
       "    </tr>\n",
       "    <tr>\n",
       "      <th>Point 02_rel</th>\n",
       "      <td>1.000972</td>\n",
       "      <td>289.349486</td>\n",
       "      <td>294.071087</td>\n",
       "      <td>5.86701</td>\n",
       "    </tr>\n",
       "  </tbody>\n",
       "</table>\n",
       "</div>"
      ],
      "text/plain": [
       "                P[bar]        T[k]    h[kj/kg]  s[kj/kg-k]\n",
       "Point 02      1.042491  292.730643  297.465769     5.86701\n",
       "Point 2       0.941883  284.360306  289.061951     5.86701\n",
       "Point 02_rel  1.000972  289.349486  294.071087     5.86701"
      ]
     },
     "execution_count": 39,
     "metadata": {},
     "output_type": "execute_result"
    }
   ],
   "source": [
    "df1_rotor_outlet"
   ]
  },
  {
   "cell_type": "code",
   "execution_count": 40,
   "id": "b11fc3d7-879d-4e39-97b4-b6db99aeb880",
   "metadata": {},
   "outputs": [
    {
     "data": {
      "text/html": [
       "<div>\n",
       "<style scoped>\n",
       "    .dataframe tbody tr th:only-of-type {\n",
       "        vertical-align: middle;\n",
       "    }\n",
       "\n",
       "    .dataframe tbody tr th {\n",
       "        vertical-align: top;\n",
       "    }\n",
       "\n",
       "    .dataframe thead th {\n",
       "        text-align: right;\n",
       "    }\n",
       "</style>\n",
       "<table border=\"1\" class=\"dataframe\">\n",
       "  <thead>\n",
       "    <tr style=\"text-align: right;\">\n",
       "      <th></th>\n",
       "      <th>m_dot[kg/sec]</th>\n",
       "      <th>C2[meter/sec]</th>\n",
       "      <th>W2[meter/sec]</th>\n",
       "      <th>C_m2[meter/sec]</th>\n",
       "      <th>U2[meter/sec]</th>\n",
       "      <th>rho2[kg/m^3]</th>\n",
       "      <th>A2[m^2]</th>\n",
       "      <th>alpha2[degree]</th>\n",
       "      <th>beta2[degree]</th>\n",
       "      <th>E-Check</th>\n",
       "    </tr>\n",
       "  </thead>\n",
       "  <tbody>\n",
       "    <tr>\n",
       "      <th>value</th>\n",
       "      <td>13.609998</td>\n",
       "      <td>129.644268</td>\n",
       "      <td>100.091325</td>\n",
       "      <td>82.325011</td>\n",
       "      <td>157.079633</td>\n",
       "      <td>1.169399</td>\n",
       "      <td>0.141372</td>\n",
       "      <td>50.5795</td>\n",
       "      <td>34.664262</td>\n",
       "      <td>0.000219</td>\n",
       "    </tr>\n",
       "  </tbody>\n",
       "</table>\n",
       "</div>"
      ],
      "text/plain": [
       "       m_dot[kg/sec]  C2[meter/sec]  W2[meter/sec]  C_m2[meter/sec]  \\\n",
       "value      13.609998     129.644268     100.091325        82.325011   \n",
       "\n",
       "       U2[meter/sec]  rho2[kg/m^3]   A2[m^2]  alpha2[degree]  beta2[degree]  \\\n",
       "value     157.079633      1.169399  0.141372         50.5795      34.664262   \n",
       "\n",
       "        E-Check  \n",
       "value  0.000219  "
      ]
     },
     "execution_count": 40,
     "metadata": {},
     "output_type": "execute_result"
    }
   ],
   "source": [
    "df2_rotor_outlet"
   ]
  },
  {
   "attachments": {},
   "cell_type": "markdown",
   "id": "9d58e0e3-5084-42e3-9ce7-54101b2ae2ce",
   "metadata": {},
   "source": [
    "## Stator Outlet"
   ]
  },
  {
   "cell_type": "code",
   "execution_count": 41,
   "id": "4419ce0a-8161-40e6-84cf-60a02b43a3f5",
   "metadata": {},
   "outputs": [],
   "source": [
    "alpha2 = df2_rotor_outlet['alpha2[degree]']['value']\n",
    "C_m2 = df2_rotor_outlet['C_m2[meter/sec]']['value']\n",
    "beta2 = df2_rotor_outlet['beta2[degree]']['value']"
   ]
  },
  {
   "cell_type": "code",
   "execution_count": 42,
   "id": "bfadd614-5c29-4325-97ff-afec2a994d3a",
   "metadata": {},
   "outputs": [],
   "source": [
    "i_stator = alpha2-alpha_prime2"
   ]
  },
  {
   "attachments": {},
   "cell_type": "markdown",
   "id": "9f7fc308-af2a-4970-8b9c-e231296d1e51",
   "metadata": {
    "tags": []
   },
   "source": [
    "### i_star"
   ]
  },
  {
   "cell_type": "code",
   "execution_count": 43,
   "id": "bc90c18a-eed5-4cff-8a1f-cd0e4e4c9668",
   "metadata": {},
   "outputs": [],
   "source": [
    "blade_type = ['C_Series','circular']\n",
    "stagger = (alpha_prime2+alpha_prime3)/2\n",
    "a_c = 0.5\n",
    "theta = alpha_prime2-alpha_prime3"
   ]
  },
  {
   "cell_type": "code",
   "execution_count": 44,
   "id": "b92259f1-c482-410a-ac95-e42d4625af48",
   "metadata": {},
   "outputs": [
    {
     "data": {
      "text/plain": [
       "{'i_star': -1.4250496630045788,\n",
       " 'alpha_star': 11.07495033699542,\n",
       " 'beta1_star': 56.17495033699542,\n",
       " 'E-Check': 0.0}"
      ]
     },
     "execution_count": 44,
     "metadata": {},
     "output_type": "execute_result"
    }
   ],
   "source": [
    "i_star(alpha_prime2, stagger, a_c, theta, t_max_c, sigma_s, blade_type)"
   ]
  },
  {
   "cell_type": "code",
   "execution_count": 45,
   "id": "9feecbee-b66b-4a23-ad88-77d0afecedb3",
   "metadata": {},
   "outputs": [],
   "source": [
    "dic = i_star(alpha_prime2, stagger, a_c, theta, t_max_c, sigma_s, blade_type)\n",
    "i_star_s = dic['i_star']\n",
    "alpha_star = dic['alpha_star']\n",
    "beta1_star = dic['beta1_star']"
   ]
  },
  {
   "attachments": {},
   "cell_type": "markdown",
   "id": "20a1b4cf-2042-42f7-8f6d-aa89ccff75fa",
   "metadata": {},
   "source": [
    "### i_c"
   ]
  },
  {
   "cell_type": "code",
   "execution_count": 46,
   "id": "4d88b356-a9d2-4675-b1d0-16595c161567",
   "metadata": {},
   "outputs": [
    {
     "data": {
      "text/plain": [
       "{'i_c': -10.196834171554006,\n",
       " 'alpha_c': 2.3031658284459926,\n",
       " 'beta1_c': 47.40316582844599,\n",
       " 'E-Check': 1.0}"
      ]
     },
     "execution_count": 46,
     "metadata": {},
     "output_type": "execute_result"
    }
   ],
   "source": [
    "i_c(i_star_s, alpha_star, beta1_star, theta, stagger)"
   ]
  },
  {
   "cell_type": "code",
   "execution_count": 47,
   "id": "c855379a-8bd2-43f8-87bc-fd12337613ed",
   "metadata": {},
   "outputs": [],
   "source": [
    "dic = i_c(i_star_s, alpha_star, beta1_star, theta, stagger)\n",
    "i_c_s = dic['i_c']\n",
    "alpha_c = dic['alpha_c']\n",
    "beta1_c = dic['beta1_c']"
   ]
  },
  {
   "attachments": {},
   "cell_type": "markdown",
   "id": "bc409956-a8bc-4187-a0ce-21a4ad239e55",
   "metadata": {},
   "source": [
    "### i_s"
   ]
  },
  {
   "cell_type": "code",
   "execution_count": 48,
   "id": "fc065e4d-77bb-4be5-9a4b-0eb460443689",
   "metadata": {},
   "outputs": [
    {
     "data": {
      "text/plain": [
       "{'i_s': 5.454236190758787,\n",
       " 'alpha_s': 17.954236190758785,\n",
       " 'beta1_s': 63.05511014346361,\n",
       " 'E-Check': 0.0008739527048220452}"
      ]
     },
     "execution_count": 48,
     "metadata": {},
     "output_type": "execute_result"
    }
   ],
   "source": [
    "i_s(i_star_s, alpha_star, beta1_star, theta, stagger)"
   ]
  },
  {
   "cell_type": "code",
   "execution_count": 49,
   "id": "29eac135-7f7e-45f0-bc72-2f908e7dbca9",
   "metadata": {},
   "outputs": [],
   "source": [
    "dic = i_s(i_star_r, alpha_star, beta1_star, theta, stagger)\n",
    "i_s_s = dic['i_s']\n",
    "alpha_s = dic['alpha_s']\n",
    "beta1_s = dic['beta1_s']"
   ]
  },
  {
   "attachments": {},
   "cell_type": "markdown",
   "id": "5ac2ed72-7a49-44da-aba7-6f39ab9c7478",
   "metadata": {
    "tags": []
   },
   "source": [
    "### delta_star"
   ]
  },
  {
   "cell_type": "code",
   "execution_count": 50,
   "id": "9ac921a5-a61f-464d-a17d-f9bba48ca921",
   "metadata": {},
   "outputs": [],
   "source": [
    "C_m2_star = df2_rotor_outlet_star['C_m2[meter/sec]']['value']\n",
    "U2 = 2*math.pi*r_m2*N/60\n",
    "C2_star = df2_rotor_outlet_star['C2[meter/sec]']['value']\n",
    "T2_star = df1_rotor_outlet_star['T[k]']['Point 2']\n",
    "M_C2_star = C2_star/((gama*R*1000*T2_star)**0.5)\n",
    "df1_stator_outlet_star, df2_stator_outlet_star = stator_outlet(M_C2_star, df1_rotor_outlet_star, df2_rotor_outlet_star, gama, R, blade_type, i_s_s, i_c_s, 0, sigma_s, beta1_star, 0, i_star_s, i_star_s, math.degrees(math.atan(U2/C_m2_star-math.tan(math.radians(beta1_star)))), r_m2, r_m3, N_design, alpha_prime3, H2, H3, N_design, t_max_c, a_c, s_s, theta, beta1_star)"
   ]
  },
  {
   "cell_type": "code",
   "execution_count": 51,
   "id": "4749fc02-5df0-49fe-bfb3-214e50c519ad",
   "metadata": {},
   "outputs": [
    {
     "data": {
      "text/html": [
       "<div>\n",
       "<style scoped>\n",
       "    .dataframe tbody tr th:only-of-type {\n",
       "        vertical-align: middle;\n",
       "    }\n",
       "\n",
       "    .dataframe tbody tr th {\n",
       "        vertical-align: top;\n",
       "    }\n",
       "\n",
       "    .dataframe thead th {\n",
       "        text-align: right;\n",
       "    }\n",
       "</style>\n",
       "<table border=\"1\" class=\"dataframe\">\n",
       "  <thead>\n",
       "    <tr style=\"text-align: right;\">\n",
       "      <th></th>\n",
       "      <th>P[bar]</th>\n",
       "      <th>T[k]</th>\n",
       "      <th>h[kj/kg]</th>\n",
       "      <th>s[kj/kg-k]</th>\n",
       "    </tr>\n",
       "  </thead>\n",
       "  <tbody>\n",
       "    <tr>\n",
       "      <th>Point 03</th>\n",
       "      <td>1.037099</td>\n",
       "      <td>292.598045</td>\n",
       "      <td>297.332640</td>\n",
       "      <td>5.868043</td>\n",
       "    </tr>\n",
       "    <tr>\n",
       "      <th>Point 3</th>\n",
       "      <td>0.950431</td>\n",
       "      <td>285.389267</td>\n",
       "      <td>290.095027</td>\n",
       "      <td>5.868043</td>\n",
       "    </tr>\n",
       "  </tbody>\n",
       "</table>\n",
       "</div>"
      ],
      "text/plain": [
       "            P[bar]        T[k]    h[kj/kg]  s[kj/kg-k]\n",
       "Point 03  1.037099  292.598045  297.332640    5.868043\n",
       "Point 3   0.950431  285.389267  290.095027    5.868043"
      ]
     },
     "execution_count": 51,
     "metadata": {},
     "output_type": "execute_result"
    }
   ],
   "source": [
    "df1_stator_outlet_star"
   ]
  },
  {
   "cell_type": "code",
   "execution_count": 52,
   "id": "c576fd88-20c0-43a1-be3d-003571c05db9",
   "metadata": {},
   "outputs": [
    {
     "data": {
      "text/html": [
       "<div>\n",
       "<style scoped>\n",
       "    .dataframe tbody tr th:only-of-type {\n",
       "        vertical-align: middle;\n",
       "    }\n",
       "\n",
       "    .dataframe tbody tr th {\n",
       "        vertical-align: top;\n",
       "    }\n",
       "\n",
       "    .dataframe thead th {\n",
       "        text-align: right;\n",
       "    }\n",
       "</style>\n",
       "<table border=\"1\" class=\"dataframe\">\n",
       "  <thead>\n",
       "    <tr style=\"text-align: right;\">\n",
       "      <th></th>\n",
       "      <th>C3[meter/sec]</th>\n",
       "      <th>C_m3[meter/sec]</th>\n",
       "      <th>rho3[kg/m^3]</th>\n",
       "      <th>A3[m^2]</th>\n",
       "      <th>alpha3[degree]</th>\n",
       "      <th>E-Check</th>\n",
       "    </tr>\n",
       "  </thead>\n",
       "  <tbody>\n",
       "    <tr>\n",
       "      <th>value</th>\n",
       "      <td>120.313035</td>\n",
       "      <td>91.221871</td>\n",
       "      <td>1.175758</td>\n",
       "      <td>0.125664</td>\n",
       "      <td>40.693845</td>\n",
       "      <td>0.000011</td>\n",
       "    </tr>\n",
       "  </tbody>\n",
       "</table>\n",
       "</div>"
      ],
      "text/plain": [
       "       C3[meter/sec]  C_m3[meter/sec]  rho3[kg/m^3]   A3[m^2]  alpha3[degree]  \\\n",
       "value     120.313035        91.221871      1.175758  0.125664       40.693845   \n",
       "\n",
       "        E-Check  \n",
       "value  0.000011  "
      ]
     },
     "execution_count": 52,
     "metadata": {},
     "output_type": "execute_result"
    }
   ],
   "source": [
    "df2_stator_outlet_star"
   ]
  },
  {
   "cell_type": "code",
   "execution_count": 53,
   "id": "631e063f-4ca4-4565-a2b6-9f4423181297",
   "metadata": {},
   "outputs": [],
   "source": [
    "C_m3 = df2_stator_outlet_star['C_m3[meter/sec]']['value']"
   ]
  },
  {
   "cell_type": "code",
   "execution_count": 54,
   "id": "9a525da1-95f4-4975-b6b1-205ea168277d",
   "metadata": {},
   "outputs": [
    {
     "data": {
      "text/plain": [
       "{'delta_m_liblin': 9.037791725803736,\n",
       " 'delta_m_howel': 8.093844720168413,\n",
       " 'beta2_howel': 40.693844720168414,\n",
       " 'E-Check': 6.255904828833536e-06}"
      ]
     },
     "execution_count": 54,
     "metadata": {},
     "output_type": "execute_result"
    }
   ],
   "source": [
    "delta_star(sigma_s, beta1_star, t_max_c, blade_type, theta, alpha_prime3, a_c, df2_rotor_outlet_star['C_m2[meter/sec]']['value'], C_m3)"
   ]
  },
  {
   "cell_type": "code",
   "execution_count": 55,
   "id": "0e3aef97-bf56-42e7-8dc6-356a5088d317",
   "metadata": {},
   "outputs": [],
   "source": [
    "dic = delta_star(sigma_s, beta1_star, t_max_c, blade_type, theta, alpha_prime3, a_c, df2_rotor_outlet_star['C_m2[meter/sec]']['value'], C_m3)\n",
    "delta_star_s = dic['delta_m_howel']\n",
    "beta2_star = dic['beta2_howel']"
   ]
  },
  {
   "attachments": {},
   "cell_type": "markdown",
   "id": "7bca1669-4b5c-45c0-ae2a-c8b3cac0fb76",
   "metadata": {},
   "source": [
    "### lc_star"
   ]
  },
  {
   "cell_type": "code",
   "execution_count": 56,
   "id": "5efdfe26-850c-413b-89b6-169dba99ec66",
   "metadata": {},
   "outputs": [],
   "source": [
    "loss_coefficient_star = lc_star(sigma_s, r_m2, r_m3, df2_rotor_outlet_star['C_m2[meter/sec]']['value'], C_m3, N_design, beta1_star, beta2_star, H2, s_s)"
   ]
  },
  {
   "cell_type": "code",
   "execution_count": 57,
   "id": "85538b3c-e717-498f-b463-419f2570b561",
   "metadata": {},
   "outputs": [
    {
     "data": {
      "text/plain": [
       "0.038350320523645835"
      ]
     },
     "execution_count": 57,
     "metadata": {},
     "output_type": "execute_result"
    }
   ],
   "source": [
    "loss_coefficient_star"
   ]
  },
  {
   "attachments": {},
   "cell_type": "markdown",
   "id": "966419e6-3acb-459a-9ab9-4a09a7049b09",
   "metadata": {},
   "source": [
    "### Off-Design"
   ]
  },
  {
   "cell_type": "code",
   "execution_count": 58,
   "id": "abbd3c0c-fcc5-4920-8032-5ed2167cefca",
   "metadata": {},
   "outputs": [],
   "source": [
    "df1_stator_outlet, df2_stator_outlet = stator_outlet(M_C2_star, df1_rotor_outlet, df2_rotor_outlet, gama, R, blade_type, i_s_s, i_c_s, loss_coefficient_star, sigma, alpha2, delta_star_s, i_star_s, i_stator, beta2, r_m2, r_m3, N, alpha_prime3, H2, H3, N_design, t_max_c, a_c, s_s, theta, beta1_star)"
   ]
  },
  {
   "cell_type": "code",
   "execution_count": 59,
   "id": "dbe0eab1-24f8-4d1f-88a0-e6bc6b9a193c",
   "metadata": {},
   "outputs": [
    {
     "data": {
      "text/html": [
       "<div>\n",
       "<style scoped>\n",
       "    .dataframe tbody tr th:only-of-type {\n",
       "        vertical-align: middle;\n",
       "    }\n",
       "\n",
       "    .dataframe tbody tr th {\n",
       "        vertical-align: top;\n",
       "    }\n",
       "\n",
       "    .dataframe thead th {\n",
       "        text-align: right;\n",
       "    }\n",
       "</style>\n",
       "<table border=\"1\" class=\"dataframe\">\n",
       "  <thead>\n",
       "    <tr style=\"text-align: right;\">\n",
       "      <th></th>\n",
       "      <th>P[bar]</th>\n",
       "      <th>T[k]</th>\n",
       "      <th>h[kj/kg]</th>\n",
       "      <th>s[kj/kg-k]</th>\n",
       "    </tr>\n",
       "  </thead>\n",
       "  <tbody>\n",
       "    <tr>\n",
       "      <th>Point 03</th>\n",
       "      <td>1.039135</td>\n",
       "      <td>292.730643</td>\n",
       "      <td>297.465769</td>\n",
       "      <td>5.867935</td>\n",
       "    </tr>\n",
       "    <tr>\n",
       "      <th>Point 3</th>\n",
       "      <td>0.955403</td>\n",
       "      <td>285.784461</td>\n",
       "      <td>290.491802</td>\n",
       "      <td>5.867935</td>\n",
       "    </tr>\n",
       "  </tbody>\n",
       "</table>\n",
       "</div>"
      ],
      "text/plain": [
       "            P[bar]        T[k]    h[kj/kg]  s[kj/kg-k]\n",
       "Point 03  1.039135  292.730643  297.465769    5.867935\n",
       "Point 3   0.955403  285.784461  290.491802    5.867935"
      ]
     },
     "execution_count": 59,
     "metadata": {},
     "output_type": "execute_result"
    }
   ],
   "source": [
    "df1_stator_outlet"
   ]
  },
  {
   "cell_type": "code",
   "execution_count": 60,
   "id": "d6fbf611-bd5d-4008-8691-f6004631fa4a",
   "metadata": {},
   "outputs": [
    {
     "data": {
      "text/html": [
       "<div>\n",
       "<style scoped>\n",
       "    .dataframe tbody tr th:only-of-type {\n",
       "        vertical-align: middle;\n",
       "    }\n",
       "\n",
       "    .dataframe tbody tr th {\n",
       "        vertical-align: top;\n",
       "    }\n",
       "\n",
       "    .dataframe thead th {\n",
       "        text-align: right;\n",
       "    }\n",
       "</style>\n",
       "<table border=\"1\" class=\"dataframe\">\n",
       "  <thead>\n",
       "    <tr style=\"text-align: right;\">\n",
       "      <th></th>\n",
       "      <th>C3[meter/sec]</th>\n",
       "      <th>C_m3[meter/sec]</th>\n",
       "      <th>rho3[kg/m^3]</th>\n",
       "      <th>A3[m^2]</th>\n",
       "      <th>alpha3[degree]</th>\n",
       "      <th>E-Check</th>\n",
       "    </tr>\n",
       "  </thead>\n",
       "  <tbody>\n",
       "    <tr>\n",
       "      <th>value</th>\n",
       "      <td>118.101374</td>\n",
       "      <td>91.762447</td>\n",
       "      <td>1.180274</td>\n",
       "      <td>0.125664</td>\n",
       "      <td>39.015075</td>\n",
       "      <td>0.00009</td>\n",
       "    </tr>\n",
       "  </tbody>\n",
       "</table>\n",
       "</div>"
      ],
      "text/plain": [
       "       C3[meter/sec]  C_m3[meter/sec]  rho3[kg/m^3]   A3[m^2]  alpha3[degree]  \\\n",
       "value     118.101374        91.762447      1.180274  0.125664       39.015075   \n",
       "\n",
       "       E-Check  \n",
       "value  0.00009  "
      ]
     },
     "execution_count": 60,
     "metadata": {},
     "output_type": "execute_result"
    }
   ],
   "source": [
    "df2_stator_outlet"
   ]
  },
  {
   "attachments": {},
   "cell_type": "markdown",
   "id": "0fa150e0-a8d8-45dc-bcab-19513beefd6b",
   "metadata": {},
   "source": [
    "If We have OGV We need to act like this:"
   ]
  },
  {
   "attachments": {},
   "cell_type": "markdown",
   "id": "1d7a8309-4d02-4b9e-8bdd-9ec91e92f860",
   "metadata": {},
   "source": [
    "## Efficiency"
   ]
  },
  {
   "cell_type": "code",
   "execution_count": 61,
   "id": "54f98e48-88e8-465b-99e0-a96c6fb2b4ce",
   "metadata": {},
   "outputs": [],
   "source": [
    "df, dic = efficiency(df1_rotor_inlet, df1_rotor_outlet, df1_stator_outlet, df2_rotor_inlet, df2_rotor_outlet, df2_stator_outlet)"
   ]
  },
  {
   "cell_type": "code",
   "execution_count": 62,
   "id": "5c566788-ac95-4a34-a314-16f90bf16dd5",
   "metadata": {},
   "outputs": [
    {
     "data": {
      "text/html": [
       "<div>\n",
       "<style scoped>\n",
       "    .dataframe tbody tr th:only-of-type {\n",
       "        vertical-align: middle;\n",
       "    }\n",
       "\n",
       "    .dataframe tbody tr th {\n",
       "        vertical-align: top;\n",
       "    }\n",
       "\n",
       "    .dataframe thead th {\n",
       "        text-align: right;\n",
       "    }\n",
       "</style>\n",
       "<table border=\"1\" class=\"dataframe\">\n",
       "  <thead>\n",
       "    <tr style=\"text-align: right;\">\n",
       "      <th></th>\n",
       "      <th>h0[kj/kg]</th>\n",
       "      <th>h[kj/kg]</th>\n",
       "      <th>h0_rel[kj/kg]</th>\n",
       "      <th>s[kj/kg-k]</th>\n",
       "      <th>P0_rel[bar]</th>\n",
       "      <th>P0[bar]</th>\n",
       "      <th>P[bar]</th>\n",
       "      <th>C[meter/sec]</th>\n",
       "      <th>C_m[meter/sec]</th>\n",
       "      <th>C_theta[meter/sec]</th>\n",
       "      <th>W[meter/sec]</th>\n",
       "      <th>alpha[degree]</th>\n",
       "      <th>beta[degree]</th>\n",
       "      <th>rho[kg/m^3]</th>\n",
       "    </tr>\n",
       "  </thead>\n",
       "  <tbody>\n",
       "    <tr>\n",
       "      <th>1</th>\n",
       "      <td>292.716203</td>\n",
       "      <td>287.461647</td>\n",
       "      <td>294.07108739875605</td>\n",
       "      <td>5.866373</td>\n",
       "      <td>1.0031956690742374</td>\n",
       "      <td>0.986923</td>\n",
       "      <td>0.925594</td>\n",
       "      <td>102.513963</td>\n",
       "      <td>74.973967</td>\n",
       "      <td>69.914355</td>\n",
       "      <td>114.97339393698874</td>\n",
       "      <td>43.0</td>\n",
       "      <td>49.3</td>\n",
       "      <td>1.155654</td>\n",
       "    </tr>\n",
       "    <tr>\n",
       "      <th>2</th>\n",
       "      <td>297.465769</td>\n",
       "      <td>289.061951</td>\n",
       "      <td>294.07108739875605</td>\n",
       "      <td>5.86701</td>\n",
       "      <td>1.000971966900706</td>\n",
       "      <td>1.042491</td>\n",
       "      <td>0.941883</td>\n",
       "      <td>129.644268</td>\n",
       "      <td>82.325011</td>\n",
       "      <td>100.151029</td>\n",
       "      <td>100.09132508145517</td>\n",
       "      <td>50.5795</td>\n",
       "      <td>34.66426213233464</td>\n",
       "      <td>1.169399</td>\n",
       "    </tr>\n",
       "    <tr>\n",
       "      <th>3</th>\n",
       "      <td>297.465769</td>\n",
       "      <td>290.491802</td>\n",
       "      <td>-</td>\n",
       "      <td>5.867935</td>\n",
       "      <td>-</td>\n",
       "      <td>1.039135</td>\n",
       "      <td>0.955403</td>\n",
       "      <td>118.101374</td>\n",
       "      <td>91.762447</td>\n",
       "      <td>74.347749</td>\n",
       "      <td>-</td>\n",
       "      <td>39.015075</td>\n",
       "      <td>-</td>\n",
       "      <td>1.180274</td>\n",
       "    </tr>\n",
       "  </tbody>\n",
       "</table>\n",
       "</div>"
      ],
      "text/plain": [
       "    h0[kj/kg]    h[kj/kg]       h0_rel[kj/kg]  s[kj/kg-k]         P0_rel[bar]  \\\n",
       "1  292.716203  287.461647  294.07108739875605    5.866373  1.0031956690742374   \n",
       "2  297.465769  289.061951  294.07108739875605     5.86701   1.000971966900706   \n",
       "3  297.465769  290.491802                   -    5.867935                   -   \n",
       "\n",
       "    P0[bar]    P[bar]  C[meter/sec]  C_m[meter/sec]  C_theta[meter/sec]  \\\n",
       "1  0.986923  0.925594    102.513963       74.973967           69.914355   \n",
       "2  1.042491  0.941883    129.644268       82.325011          100.151029   \n",
       "3  1.039135  0.955403    118.101374       91.762447           74.347749   \n",
       "\n",
       "         W[meter/sec]  alpha[degree]       beta[degree]  rho[kg/m^3]  \n",
       "1  114.97339393698874           43.0               49.3     1.155654  \n",
       "2  100.09132508145517        50.5795  34.66426213233464     1.169399  \n",
       "3                   -      39.015075                  -     1.180274  "
      ]
     },
     "execution_count": 62,
     "metadata": {},
     "output_type": "execute_result"
    }
   ],
   "source": [
    "df"
   ]
  },
  {
   "cell_type": "code",
   "execution_count": 63,
   "id": "6d7f3e0c-53c0-49a5-be92-f37e17c29d5a",
   "metadata": {},
   "outputs": [
    {
     "data": {
      "text/plain": [
       "{'m_dot[kg/sec]': 13.609997974596665,\n",
       " 'etta_rotor': 0.886868538525829,\n",
       " 'etta_stator': 0.8151368484405065,\n",
       " 'etta_is_stage': 0.9037904508064224,\n",
       " 'h01[kj/kg]': 292.71620309772544,\n",
       " 'h2_s[kj/kg]': 288.88090599259436,\n",
       " 'h3_s[kj/kg]': 290.22747482060345,\n",
       " 'h03ss[kj/kg]': 297.0088152388821,\n",
       " 'h03[kj/kg]': 297.4657688154496,\n",
       " 'P03[bar]': 1.0391351263615118,\n",
       " 'T03[k]': 292.73064314514363,\n",
       " 'alpha3[degree]': 39.01507499972505}"
      ]
     },
     "execution_count": 63,
     "metadata": {},
     "output_type": "execute_result"
    }
   ],
   "source": [
    "dic"
   ]
  },
  {
   "attachments": {},
   "cell_type": "markdown",
   "id": "fb8f7c6e-6793-4ab0-8a4e-f912dfad47f2",
   "metadata": {},
   "source": [
    "## checker function"
   ]
  },
  {
   "cell_type": "code",
   "execution_count": 64,
   "id": "4c6812f9-10f5-46ba-bd99-ab90cdbc02b8",
   "metadata": {},
   "outputs": [
    {
     "name": "stdout",
     "output_type": "stream",
     "text": [
      "everything in stage 1 is alright\n"
     ]
    }
   ],
   "source": [
    "check, flag = checker(df, dic, i_star_r, i_star_s, delta_star_r, delta_star_s, N_stage)"
   ]
  },
  {
   "cell_type": "code",
   "execution_count": 65,
   "id": "39f10cb7-29dd-40c7-a19d-81fb96708f48",
   "metadata": {},
   "outputs": [
    {
     "data": {
      "text/html": [
       "<div>\n",
       "<style scoped>\n",
       "    .dataframe tbody tr th:only-of-type {\n",
       "        vertical-align: middle;\n",
       "    }\n",
       "\n",
       "    .dataframe tbody tr th {\n",
       "        vertical-align: top;\n",
       "    }\n",
       "\n",
       "    .dataframe thead th {\n",
       "        text-align: right;\n",
       "    }\n",
       "</style>\n",
       "<table border=\"1\" class=\"dataframe\">\n",
       "  <thead>\n",
       "    <tr style=\"text-align: right;\">\n",
       "      <th></th>\n",
       "      <th>rotor</th>\n",
       "      <th>rotor_check</th>\n",
       "      <th>stator</th>\n",
       "      <th>stator_check</th>\n",
       "    </tr>\n",
       "  </thead>\n",
       "  <tbody>\n",
       "    <tr>\n",
       "      <th>i_star</th>\n",
       "      <td>-0.155729</td>\n",
       "      <td>True</td>\n",
       "      <td>-1.425050</td>\n",
       "      <td>True</td>\n",
       "    </tr>\n",
       "    <tr>\n",
       "      <th>delta_star</th>\n",
       "      <td>5.694837</td>\n",
       "      <td>True</td>\n",
       "      <td>8.093845</td>\n",
       "      <td>True</td>\n",
       "    </tr>\n",
       "  </tbody>\n",
       "</table>\n",
       "</div>"
      ],
      "text/plain": [
       "               rotor  rotor_check    stator  stator_check\n",
       "i_star     -0.155729         True -1.425050          True\n",
       "delta_star  5.694837         True  8.093845          True"
      ]
     },
     "execution_count": 65,
     "metadata": {},
     "output_type": "execute_result"
    }
   ],
   "source": [
    "check"
   ]
  },
  {
   "attachments": {},
   "cell_type": "markdown",
   "id": "86813262-439a-4eda-80a5-35510e2da412",
   "metadata": {},
   "source": [
    "if there is something wrong with the operating point, it will be neglected through the value of the flag(flag = 1 means that the operating point is ok!!!):"
   ]
  },
  {
   "cell_type": "code",
   "execution_count": 66,
   "id": "1dacefdc-813f-420a-be18-fc3dc60cca66",
   "metadata": {},
   "outputs": [
    {
     "data": {
      "text/plain": [
       "1"
      ]
     },
     "execution_count": 66,
     "metadata": {},
     "output_type": "execute_result"
    }
   ],
   "source": [
    "flag"
   ]
  },
  {
   "attachments": {},
   "cell_type": "markdown",
   "id": "c7f8137c-f8a2-479f-b5d0-f1f3bdf606bd",
   "metadata": {},
   "source": [
    "## Stage Solver"
   ]
  },
  {
   "attachments": {},
   "cell_type": "markdown",
   "id": "9f38f7fc-fb29-4887-ba5a-b12e58a4bc35",
   "metadata": {},
   "source": [
    "Now We need to create a function that gives above results in the output:"
   ]
  },
  {
   "cell_type": "code",
   "execution_count": 67,
   "id": "258ae190-a94f-4e5c-9da1-9a84c9bf1449",
   "metadata": {},
   "outputs": [],
   "source": [
    "i_star_r, delta_star_r, beta2_star_r, i_star_s, delta_star_s, beta2_star_s, M_W1_star, M_C2_star, i_s_r, i_c_r, i_s_s, i_c_s, loss_coefficient_star_r, loss_coefficient_star_s = stage_solver_star(\n",
    "    alpha1, N_design, P01, T01, beta_prime1, beta_prime2, a_c, t_max_c, blade_type, sigma_r, sigma_s, \n",
    "    alpha_prime2, alpha_prime3, r_m1, r_m2, r_m3, H1, H2, H3, gama, R, r_h1, r_h2, r_t1, r_t2, s_s, s_r, N_stage\n",
    ")"
   ]
  },
  {
   "cell_type": "code",
   "execution_count": 68,
   "id": "f6e04240-8933-4a89-8660-9297b641eaee",
   "metadata": {},
   "outputs": [
    {
     "name": "stdout",
     "output_type": "stream",
     "text": [
      "everything in stage 1 is alright\n"
     ]
    }
   ],
   "source": [
    "df1, dic1, check1, flag = stage_solver(\n",
    "    alpha1, N_design, P01, T01, beta_prime1, beta_prime2, t_max_c, blade_type, a_c, i, N, sigma_r, sigma_s, alpha_prime2, alpha_prime3,\n",
    "    r_m1, r_m2, r_m3, H1, H2, H3, gama, R, r_h1, r_h2, r_t1, r_t2, s_s, s_r, N_stage, i_star_r, delta_star_r, beta2_star_r, i_star_s,\n",
    "    delta_star_s, beta2_star_s, M_W1_star, M_C2_star, i_s_r, i_c_r, i_s_s, i_c_s, loss_coefficient_star_r, loss_coefficient_star_s\n",
    ")"
   ]
  },
  {
   "cell_type": "code",
   "execution_count": 69,
   "id": "dfbed1c2-d3cc-4838-9f4e-c06248efde02",
   "metadata": {},
   "outputs": [
    {
     "data": {
      "text/html": [
       "<div>\n",
       "<style scoped>\n",
       "    .dataframe tbody tr th:only-of-type {\n",
       "        vertical-align: middle;\n",
       "    }\n",
       "\n",
       "    .dataframe tbody tr th {\n",
       "        vertical-align: top;\n",
       "    }\n",
       "\n",
       "    .dataframe thead th {\n",
       "        text-align: right;\n",
       "    }\n",
       "</style>\n",
       "<table border=\"1\" class=\"dataframe\">\n",
       "  <thead>\n",
       "    <tr style=\"text-align: right;\">\n",
       "      <th></th>\n",
       "      <th>h0[kj/kg]</th>\n",
       "      <th>h[kj/kg]</th>\n",
       "      <th>h0_rel[kj/kg]</th>\n",
       "      <th>s[kj/kg-k]</th>\n",
       "      <th>P0_rel[bar]</th>\n",
       "      <th>P0[bar]</th>\n",
       "      <th>P[bar]</th>\n",
       "      <th>C[meter/sec]</th>\n",
       "      <th>C_m[meter/sec]</th>\n",
       "      <th>C_theta[meter/sec]</th>\n",
       "      <th>W[meter/sec]</th>\n",
       "      <th>alpha[degree]</th>\n",
       "      <th>beta[degree]</th>\n",
       "      <th>rho[kg/m^3]</th>\n",
       "    </tr>\n",
       "  </thead>\n",
       "  <tbody>\n",
       "    <tr>\n",
       "      <th>1</th>\n",
       "      <td>292.716203</td>\n",
       "      <td>287.461647</td>\n",
       "      <td>294.07108739875605</td>\n",
       "      <td>5.866373</td>\n",
       "      <td>1.0031956690742374</td>\n",
       "      <td>0.986923</td>\n",
       "      <td>0.925594</td>\n",
       "      <td>102.513963</td>\n",
       "      <td>74.973967</td>\n",
       "      <td>69.914355</td>\n",
       "      <td>114.97339393698874</td>\n",
       "      <td>43.0</td>\n",
       "      <td>49.3</td>\n",
       "      <td>1.155654</td>\n",
       "    </tr>\n",
       "    <tr>\n",
       "      <th>2</th>\n",
       "      <td>297.416706</td>\n",
       "      <td>289.043024</td>\n",
       "      <td>294.0710873987561</td>\n",
       "      <td>5.867009</td>\n",
       "      <td>1.0009757360750766</td>\n",
       "      <td>1.041886</td>\n",
       "      <td>0.941668</td>\n",
       "      <td>129.411609</td>\n",
       "      <td>82.338335</td>\n",
       "      <td>99.838686</td>\n",
       "      <td>100.28024424998509</td>\n",
       "      <td>50.48713</td>\n",
       "      <td>34.80671545252108</td>\n",
       "      <td>1.16921</td>\n",
       "    </tr>\n",
       "    <tr>\n",
       "      <th>3</th>\n",
       "      <td>297.416706</td>\n",
       "      <td>290.436856</td>\n",
       "      <td>-</td>\n",
       "      <td>5.867929</td>\n",
       "      <td>-</td>\n",
       "      <td>1.038551</td>\n",
       "      <td>0.954784</td>\n",
       "      <td>118.151171</td>\n",
       "      <td>91.804371</td>\n",
       "      <td>74.375109</td>\n",
       "      <td>-</td>\n",
       "      <td>39.012586</td>\n",
       "      <td>-</td>\n",
       "      <td>1.179735</td>\n",
       "    </tr>\n",
       "  </tbody>\n",
       "</table>\n",
       "</div>"
      ],
      "text/plain": [
       "    h0[kj/kg]    h[kj/kg]       h0_rel[kj/kg]  s[kj/kg-k]         P0_rel[bar]  \\\n",
       "1  292.716203  287.461647  294.07108739875605    5.866373  1.0031956690742374   \n",
       "2  297.416706  289.043024   294.0710873987561    5.867009  1.0009757360750766   \n",
       "3  297.416706  290.436856                   -    5.867929                   -   \n",
       "\n",
       "    P0[bar]    P[bar]  C[meter/sec]  C_m[meter/sec]  C_theta[meter/sec]  \\\n",
       "1  0.986923  0.925594    102.513963       74.973967           69.914355   \n",
       "2  1.041886  0.941668    129.411609       82.338335           99.838686   \n",
       "3  1.038551  0.954784    118.151171       91.804371           74.375109   \n",
       "\n",
       "         W[meter/sec]  alpha[degree]       beta[degree]  rho[kg/m^3]  \n",
       "1  114.97339393698874           43.0               49.3     1.155654  \n",
       "2  100.28024424998509       50.48713  34.80671545252108      1.16921  \n",
       "3                   -      39.012586                  -     1.179735  "
      ]
     },
     "execution_count": 69,
     "metadata": {},
     "output_type": "execute_result"
    }
   ],
   "source": [
    "df1"
   ]
  },
  {
   "cell_type": "code",
   "execution_count": 70,
   "id": "4af739fe-e7af-47ec-9efa-5ec3d9ae7b79",
   "metadata": {},
   "outputs": [
    {
     "data": {
      "text/plain": [
       "{'m_dot[kg/sec]': 13.609997974596665,\n",
       " 'etta_rotor': 0.8857162862046913,\n",
       " 'etta_stator': 0.8114491350686965,\n",
       " 'etta_is_stage': 0.9031893036589921,\n",
       " 'h01[kj/kg]': 292.71620309772544,\n",
       " 'h2_s[kj/kg]': 288.86229807306415,\n",
       " 'h3_s[kj/kg]': 290.1740479789004,\n",
       " 'h03ss[kj/kg]': 296.96164701955075,\n",
       " 'h03[kj/kg]': 297.4167059763869,\n",
       " 'P03[bar]': 1.0385509284746668,\n",
       " 'T03[k]': 292.68177577555923,\n",
       " 'alpha3[degree]': 39.012585605704025}"
      ]
     },
     "execution_count": 70,
     "metadata": {},
     "output_type": "execute_result"
    }
   ],
   "source": [
    "dic1"
   ]
  },
  {
   "cell_type": "code",
   "execution_count": 71,
   "id": "c04fcb66-b06c-453c-b1b5-d4cd33bd6f7f",
   "metadata": {},
   "outputs": [
    {
     "data": {
      "text/html": [
       "<div>\n",
       "<style scoped>\n",
       "    .dataframe tbody tr th:only-of-type {\n",
       "        vertical-align: middle;\n",
       "    }\n",
       "\n",
       "    .dataframe tbody tr th {\n",
       "        vertical-align: top;\n",
       "    }\n",
       "\n",
       "    .dataframe thead th {\n",
       "        text-align: right;\n",
       "    }\n",
       "</style>\n",
       "<table border=\"1\" class=\"dataframe\">\n",
       "  <thead>\n",
       "    <tr style=\"text-align: right;\">\n",
       "      <th></th>\n",
       "      <th>rotor</th>\n",
       "      <th>rotor_check</th>\n",
       "      <th>stator</th>\n",
       "      <th>stator_check</th>\n",
       "    </tr>\n",
       "  </thead>\n",
       "  <tbody>\n",
       "    <tr>\n",
       "      <th>i_star</th>\n",
       "      <td>0.234689</td>\n",
       "      <td>True</td>\n",
       "      <td>-1.425050</td>\n",
       "      <td>True</td>\n",
       "    </tr>\n",
       "    <tr>\n",
       "      <th>delta_star</th>\n",
       "      <td>5.875002</td>\n",
       "      <td>True</td>\n",
       "      <td>8.102133</td>\n",
       "      <td>True</td>\n",
       "    </tr>\n",
       "  </tbody>\n",
       "</table>\n",
       "</div>"
      ],
      "text/plain": [
       "               rotor  rotor_check    stator  stator_check\n",
       "i_star      0.234689         True -1.425050          True\n",
       "delta_star  5.875002         True  8.102133          True"
      ]
     },
     "execution_count": 71,
     "metadata": {},
     "output_type": "execute_result"
    }
   ],
   "source": [
    "check1"
   ]
  },
  {
   "attachments": {},
   "cell_type": "markdown",
   "id": "a901d149-0250-4ce4-bffc-5a6581b2e630",
   "metadata": {},
   "source": [
    "## Compressor Solver"
   ]
  },
  {
   "attachments": {},
   "cell_type": "markdown",
   "id": "59e5eb5f-6296-4d03-b0c1-99a6e494776e",
   "metadata": {},
   "source": [
    "Now We need to write a function that solve the entire compressor at an arbitrary operating point:"
   ]
  },
  {
   "cell_type": "code",
   "execution_count": 72,
   "id": "7c52566f-0fcd-49f0-92f0-39bb3f3eb8bb",
   "metadata": {},
   "outputs": [],
   "source": [
    "stage1_data = (alpha1, P01, T01, beta_prime1, beta_prime2, a_c, t_max_c, blade_type, sigma_r, sigma_s, alpha_prime2,\n",
    "               alpha_prime3, r_m1, r_m2, r_m3, H1, H2, H3, r_h1, r_h2, r_t1, r_t2, s_s, s_r)\n",
    "compressor_data = [stage1_data]"
   ]
  },
  {
   "cell_type": "code",
   "execution_count": 73,
   "id": "69a7ade1-2579-475c-93ee-e342a7ebc34a",
   "metadata": {},
   "outputs": [
    {
     "name": "stdout",
     "output_type": "stream",
     "text": [
      "everything in stage 1 is alright\n",
      "everything in compressor is ok\n"
     ]
    }
   ],
   "source": [
    "P02_P01, etta_compressor, m_dot, flag = compressor_solver(compressor_data, gama, i, N, R, N_design, N_stage)"
   ]
  },
  {
   "cell_type": "code",
   "execution_count": 74,
   "id": "cad1bce0-313c-453b-844c-73d3eb4a4e54",
   "metadata": {},
   "outputs": [
    {
     "data": {
      "text/plain": [
       "0.9031893036589921"
      ]
     },
     "execution_count": 74,
     "metadata": {},
     "output_type": "execute_result"
    }
   ],
   "source": [
    "etta_compressor"
   ]
  },
  {
   "cell_type": "code",
   "execution_count": 75,
   "id": "94e2962e-75cd-449b-a81f-2c789a979379",
   "metadata": {},
   "outputs": [
    {
     "data": {
      "text/plain": [
       "1.052311728276956"
      ]
     },
     "execution_count": 75,
     "metadata": {},
     "output_type": "execute_result"
    }
   ],
   "source": [
    "P02_P01"
   ]
  },
  {
   "cell_type": "code",
   "execution_count": 76,
   "id": "0ac84030-9f7f-4fbe-bae7-20e5cf8b31a5",
   "metadata": {},
   "outputs": [
    {
     "data": {
      "text/plain": [
       "13.609997974596665"
      ]
     },
     "execution_count": 76,
     "metadata": {},
     "output_type": "execute_result"
    }
   ],
   "source": [
    "m_dot"
   ]
  },
  {
   "attachments": {},
   "cell_type": "markdown",
   "id": "9ca5c488-fae8-4263-89ae-d219b52d2bf1",
   "metadata": {},
   "source": [
    "So this is the full proccess, now We can plot operating curves for the given compressors, but We're going to do this work in separate files."
   ]
  }
 ],
 "metadata": {
  "kernelspec": {
   "display_name": "Python 3 (ipykernel)",
   "language": "python",
   "name": "python3"
  },
  "language_info": {
   "codemirror_mode": {
    "name": "ipython",
    "version": 3
   },
   "file_extension": ".py",
   "mimetype": "text/x-python",
   "name": "python",
   "nbconvert_exporter": "python",
   "pygments_lexer": "ipython3",
   "version": "3.8.13"
  }
 },
 "nbformat": 4,
 "nbformat_minor": 5
}
